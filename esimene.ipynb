{
  "nbformat": 4,
  "nbformat_minor": 0,
  "metadata": {
    "colab": {
      "provenance": [],
      "authorship_tag": "ABX9TyO/+lRbCcnPAjVPZ0C/T4Ir",
      "include_colab_link": true
    },
    "kernelspec": {
      "name": "python3",
      "display_name": "Python 3"
    },
    "language_info": {
      "name": "python"
    }
  },
  "cells": [
    {
      "cell_type": "markdown",
      "metadata": {
        "id": "view-in-github",
        "colab_type": "text"
      },
      "source": [
        "<a href=\"https://colab.research.google.com/github/K3ll0/Algoritmid2023/blob/main/esimene.ipynb\" target=\"_parent\"><img src=\"https://colab.research.google.com/assets/colab-badge.svg\" alt=\"Open In Colab\"/></a>"
      ]
    },
    {
      "cell_type": "code",
      "execution_count": null,
      "metadata": {
        "id": "lpcmRi3dYZKs"
      },
      "outputs": [],
      "source": []
    },
    {
      "cell_type": "markdown",
      "source": [
        "1. Raamatute järjestamise algoritm\n",
        "Ülesanne on luua selge ja lühike kirjalik algoritm, mis kirjeldab raamatute riiulil korraldamise samme nende kõrguse põhjal.\n",
        "Piirangud:\n",
        "Eeldage, et saate raamatu kõrgust vaadates kindlaks määrata. Arvestage, et riiulil on fikseeritud pikkus ja see mahutab kõik raamatud.\n",
        "Esitamiseks:\n",
        "Kirjalik algoritm pseudo-koodis või struktureeritud eesti keeles. Joonis algoritmi tööpõhimõttest.\n",
        "\n"
      ],
      "metadata": {
        "id": "OG5hweryYabw"
      }
    },
    {
      "cell_type": "markdown",
      "source": [
        "2. LIFO/FIFO andmestruktuur.\n",
        "Looge mõni peamine LIFO või FIFO andmestruktuur teie valitud programmeerimiskeeles.\n",
        "Piirangud:\n",
        "Ärge kasutage ühtegi sisseehitatud teeki lifo või fifo jaoks.\n",
        "Esitamiseks:\n",
        "Andmestruktuuri teostamiseks kood.\n",
        "Dokumentatsioon, mis lühidalt selgitab teie koodi.\n",
        "Analüüsige ja mõõtke oma sisestamise ja kustutamise toimingute ajaline keerukus, selgitage oma põhjendust.\n",
        "Tähtaeg: 5. oktoober 2023"
      ],
      "metadata": {
        "id": "3xArTbAOYs6e"
      }
    },
    {
      "cell_type": "code",
      "source": [
        "pinu=[]\n",
        "\n",
        "def lisa():\n",
        "  element = input(\"lisa element\")\n",
        "  pinu.append(element)\n",
        "  print(pinu)\n",
        "\n",
        "def eemalda():\n",
        "  if not pinu:\n",
        "    print(\"pinu on tyhi\")\n",
        "  else:\n",
        "    e=pinu.pop()\n",
        "    print(\"eemaldatud element: \",e)\n",
        "    print(pinu)\n",
        "\n",
        "while True:\n",
        "  print(\"vali tegevus 1.lisa 2.eemalda 3.välju\")\n",
        "  valik = int(input())\n",
        "  if valik ==1:\n",
        "    lisa()\n",
        "  elif valik==2:\n",
        "    eemalda()\n",
        "  elif valik==3:\n",
        "    break\n",
        "  else:\n",
        "    print(\"vali korrektne sisend\")"
      ],
      "metadata": {
        "colab": {
          "base_uri": "https://localhost:8080/"
        },
        "id": "w4nWbDb1ZKKV",
        "outputId": "36d5b282-e652-441f-e61a-2967558bfcd9"
      },
      "execution_count": null,
      "outputs": [
        {
          "name": "stdout",
          "output_type": "stream",
          "text": [
            "vali tegevus 1.lisa 2.eemalda 3.välju\n",
            "1\n",
            "lisa element2\n",
            "['2']\n",
            "vali tegevus 1.lisa 2.eemalda 3.välju\n",
            "2\n",
            "eemaldatud element:  2\n",
            "[]\n",
            "vali tegevus 1.lisa 2.eemalda 3.välju\n",
            "3\n"
          ]
        }
      ]
    },
    {
      "cell_type": "markdown",
      "source": [
        "3. Rekursiivne Fibonacci funktsioon\n",
        "Kirjutage funktsioon, mis, olles antud täisarv n, tagastab n-nda Fibonacci numbri, kasutades rekursiivset meetodit.\n",
        "Piirangud:\n",
        "Eeldage, et n on mittenegatiivne täisarv.\n",
        "Esitamiseks:\n",
        "Kood rekursiivse Fibonacci funktsiooni jaoks.\n",
        "Väike dokumentatsioon, mis selgitab teie rekursiivset lähenemist."
      ],
      "metadata": {
        "id": "JIgTckwzYzas"
      }
    },
    {
      "cell_type": "code",
      "source": [
        "def fibo(i):\n",
        "  if i==0:\n",
        "    return 0\n",
        "  elif i==1:\n",
        "    return 1\n",
        "\n",
        "  else:\n",
        "    return fibo(i-2) + fibo(i-1)\n",
        "\n",
        "x = 20\n",
        "\n",
        "print(x,\"-nes number fibonacci reas on:\",fibo(x))\n"
      ],
      "metadata": {
        "colab": {
          "base_uri": "https://localhost:8080/"
        },
        "id": "hFgtwHzLkcS2",
        "outputId": "c18158ee-beba-4281-cc30-53b43032f0ad"
      },
      "execution_count": null,
      "outputs": [
        {
          "output_type": "stream",
          "name": "stdout",
          "text": [
            "20 -nes number fibonacci reas on: 6765\n"
          ]
        }
      ]
    },
    {
      "cell_type": "markdown",
      "source": [
        "4. Binaarne otsingualgoritm\n",
        "Looge (vabalt valitud) binaarne otsingualgoritm, mis leiab kindla täisarvu sorteeritud täisarvude loendist.\n",
        "Piirangud:\n",
        "Teie algoritm peaks tagastama täisarvu indeksi, kui see on leitud, või sõnumi, mis väidab, et täisarvu loendis pole.\n",
        "Esitamiseks:\n",
        "Kood binaarse otsingu algoritmi jaoks.\n",
        "Lühike dokumentatsioon, mis selgitab teie teostust."
      ],
      "metadata": {
        "id": "NlExy7siY4Dv"
      }
    },
    {
      "cell_type": "code",
      "source": [
        "def binaarotsing(loend, otsitav):\n",
        "  # määran otsingu algus ja lõpu indeksid\n",
        "  a_indeks = 0\n",
        "  l_indeks = len(loend) - 1\n",
        "\n",
        "  # kui algusindeks on väiksem või võrdne lõpuindeksiga\n",
        "  while a_indeks <= l_indeks:\n",
        "    # siis vaadeldav indeks loendis on\n",
        "    indeks = a_indeks + (l_indeks - a_indeks) // 2\n",
        "    # ja vaadeldav arv antud indeksil on\n",
        "    arv = loend[indeks]\n",
        "\n",
        "    # kui vaadeldav arv on otsitav arv, siis tagasta vaadeldud indeks\n",
        "    if arv == otsitav:\n",
        "      return indeks\n",
        "\n",
        "    # kui otsitav arv on väiksem, kui vaadeldav\n",
        "    elif otsitav < arv:\n",
        "      # siis vähendame lõpuindeksit ühe võrra\n",
        "      l_indeks = indeks - 1\n",
        "\n",
        "    # suurendame algusindeksit ühe võrra\n",
        "    else:\n",
        "      a_indeks = indeks + 1\n",
        "\n",
        "  # kui otsitavat arvu ei leidu loendis\n",
        "  return None\n",
        "\n",
        "\n",
        "loend_1 = [0,2,2,2,3,6,6,8,9,20]\n",
        "otsitav_1 = 6\n",
        "\n",
        "x = binaarotsing(loend_1, otsitav_1)\n",
        "\n",
        "if x == None:\n",
        "  print(\"otsitavat arvu ei leidu antud loendis\")\n",
        "else:\n",
        "  print(\"otsitava arvu esimene indeks loendis on:\",x)\n",
        "\n"
      ],
      "metadata": {
        "colab": {
          "base_uri": "https://localhost:8080/"
        },
        "id": "BP9oBSganh62",
        "outputId": "e7130ce8-6b79-40f0-f1de-da7b73a23fbb"
      },
      "execution_count": null,
      "outputs": [
        {
          "output_type": "stream",
          "name": "stdout",
          "text": [
            "otsitava arvu esimene indeks loendis on: 5\n"
          ]
        }
      ]
    },
    {
      "cell_type": "markdown",
      "source": [
        "5. Puu Joonistamine\n",
        "Töövahendid:\n",
        "Kasuta graafilist tööriista või teeki, millega tunned end mugavalt.\n",
        "Võib kasutada nt. Microsoft Visiot, Lucidcharti, draw.io-d või muud sarnast. Võib ka kasutada pliiatsit ja paberit.\n",
        "Tipud ja servad:\n",
        "Tipud: Esindavad eristatavaid üksusi või positsioone.\n",
        "\n",
        " Näide 1 (E\u0000evõtlus): Tegevjuht, Juht, Meeskonna Juht, Töötaja.\n",
        "Näide 2 (Akadeemiline): Ülikool, Kolledž, Osakond, Professor, Õpilane.\n",
        "Näide 3 (Meditsiiniline): Haigla Administraator, Osakonna Juhataja, Vanemarst, Õde, Patsient.\n",
        "Näide 4 (Digitaalne): Veebisaidi Avaleht, Kategooria Leht, Toote Leht, Ülevaate Leht.\n",
        "Servad: Kirjeldavad sõlmede vahelisi ühendusi või seoseid.\n",
        "E\u0000evõ\u0000e näites võib töötaja olla alluv meeskonna juhile, liikudes edasi juhataja poole. Akadeemilises kontekstis võib õpilane olla professori alluvuses, kes kuulub kolledži osakonda. Esmatähtis on selgus, märkides selgelt iga sõlme ja selle suhted.\n",
        "Puu suurus:\n",
        "Proovige koostada puu, mis koosneb 10–15 sõlmest. See suurus pakub sügavuse ja detailide tasakaalu, tagades samal ajal arusaadavuse. Sõltuvalt sinu valitud kontekstist kaalu erinevate alamkategooriate või osakondade eristamist (näiteks erinevad akadeemilised distsipliinid või e\u0000evõ\u0000e osakonnad, nagu IT, turundus, finants).\n",
        "Esitamiseks:\n",
        "Graafiline:\n",
        "Esitage selge ja struktureeritud puu diagramm, mis toob esile valitud sõlmed ja nende omavahelised suhted.\n",
        "Kirjalik:\n",
        "Kirjuta lühike võrdlus puude ja graafide vahel. Rõhuta puude omadusi (nagu nende atsükliline olemus) ja kuidas need eristuvad üldistest graafidest. Too näiteid olukordadest, kus struktuur on graafina, kuid mi\u0000e tingimata puuna.\n"
      ],
      "metadata": {
        "id": "CzoC1rYnY_zZ"
      }
    }
  ]
}