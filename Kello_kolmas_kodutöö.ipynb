{
  "nbformat": 4,
  "nbformat_minor": 0,
  "metadata": {
    "colab": {
      "provenance": [],
      "authorship_tag": "ABX9TyOaObS3UZbYzFJ20WTt4RD9",
      "include_colab_link": true
    },
    "kernelspec": {
      "name": "python3",
      "display_name": "Python 3"
    },
    "language_info": {
      "name": "python"
    }
  },
  "cells": [
    {
      "cell_type": "markdown",
      "metadata": {
        "id": "view-in-github",
        "colab_type": "text"
      },
      "source": [
        "<a href=\"https://colab.research.google.com/github/K3ll0/Algoritmid2023/blob/main/Kello_kolmas_kodut%C3%B6%C3%B6.ipynb\" target=\"_parent\"><img src=\"https://colab.research.google.com/assets/colab-badge.svg\" alt=\"Open In Colab\"/></a>"
      ]
    },
    {
      "cell_type": "markdown",
      "source": [
        "## Ülesanne 1: Lineaarotsing (Linear Search)\n",
        "### 1. Rakendage Linear Search algoritm vabalt valitud programmeerimiskeeles.\n",
        "\n",
        "### 2. Analüüsige oma algoritmi aja- ja ruumikomplekssust. <br />\n",
        "Ajakompleksus on O(n), ruumi kompleksus on O(1)\n",
        "\n",
        "###3. Arutlege lühidal, kuidas Linear Search algoritmi saab kasutada reaalmaailma rakendustes ja millised on selle piirangud.<br />\n",
        "lineaarne otsimine sobib pigem pisemate ja sorteerimata andmehulkade puhul, kuna liigub esimesest elemendist viimase suunas võrreldes igal indeksil asuvat otsitavaga."
      ],
      "metadata": {
        "id": "8trNmoLHwVsR"
      }
    },
    {
      "cell_type": "code",
      "source": [
        "def linearSearch(array, x):\n",
        "\n",
        "    n = len(array)\n",
        "\n",
        "    for i in range(0, n):\n",
        "        if (array[i] == x):\n",
        "            return i\n",
        "    return -1\n",
        "\n",
        "\n",
        "array = [2, 4, 0, 1, 9]\n",
        "x = 9\n",
        "\n",
        "tulemus = linearSearch(array, x)\n",
        "\n",
        "if(tulemus == -1):\n",
        "    print(\"otsitavat elementi ei leidu\")\n",
        "else:\n",
        "    print(\"otsitav element asub indeksil: \", tulemus)"
      ],
      "metadata": {
        "colab": {
          "base_uri": "https://localhost:8080/"
        },
        "id": "xU8WO5zNwX0N",
        "outputId": "92f8e900-328e-486f-dee9-f432455a24db"
      },
      "execution_count": 9,
      "outputs": [
        {
          "output_type": "stream",
          "name": "stdout",
          "text": [
            "otsitav element asub indeksil:  4\n"
          ]
        }
      ]
    },
    {
      "cell_type": "markdown",
      "source": [
        "##Ülesanne 2: Kahendotsingu (Binary Search) rakendamine ja analüüs\n",
        "\n",
        "###1. Kirjutage programm, mis teostab Binary Search'i sorteeritud täisarvude massiivil.<br />\n",
        "###2. Võrrelge teoreetilises analüüsis valminud Binary Search'i ja Linear Search'i aegkomplekssust.<br />\n",
        "Binaarotsingu ajakompleksus on parimal juhul O(1), halvimal juhul O(log n), mis on igal juhul parem, kui lineaar otsingu O(n)\n",
        "\n",
        "###3. Tooge näide stsenaariumist, kus Binary Search on kasulikum kui Linear Search, ja selgitage miks.<br />\n",
        "Näiteks sobiks sorteeritud massiiv nimesid või numbreid. Binaarotsing välistab iga võrdlusringiga 1/2 indeksitest, samas kui lineaarotsing vähendab allesjäävate indeksite hulka ainult ühe võrra."
      ],
      "metadata": {
        "id": "Vc07dg3sxeSV"
      }
    },
    {
      "cell_type": "code",
      "source": [
        "def binarySearch(array, x):\n",
        "\n",
        "    low = 0\n",
        "    high = len(array)-1\n",
        "\n",
        "    # soorita otsingut, kuni low ja high punkt kohtuvad\n",
        "    while low <= high:\n",
        "        # keskpunkti valimine\n",
        "        mid = low + (high - low)//2\n",
        "        # kui keskpunkt võrdub otsitavaga\n",
        "        if array[mid] == x:\n",
        "            return mid\n",
        "        # kui keskpunkt on otsitavast väiksem\n",
        "        elif array[mid] < x:\n",
        "            low = mid + 1\n",
        "        # kui keskpunkt on otsitavast suurem\n",
        "        else:\n",
        "            high = mid - 1\n",
        "    # kui otsitavat ei leidu\n",
        "    return -1\n",
        "\n",
        "\n",
        "array = [3, 4, 5, 6, 7, 8, 9]\n",
        "x = 4\n",
        "\n",
        "#result = binarySearch(array, x, 0, len(array)-1)\n",
        "tulemus = binarySearch(array, x)\n",
        "\n",
        "if(tulemus == -1):\n",
        "    print(\"otsitavat elementi ei leidu\")\n",
        "else:\n",
        "    print(\"otsitav element asub indeksil: \", tulemus)"
      ],
      "metadata": {
        "colab": {
          "base_uri": "https://localhost:8080/"
        },
        "id": "jQ24S-jHxicG",
        "outputId": "8dbeec3f-6be3-4ef0-898c-538e03d345db"
      },
      "execution_count": 7,
      "outputs": [
        {
          "output_type": "stream",
          "name": "stdout",
          "text": [
            "otsitav element asub indeksil:  1\n"
          ]
        }
      ]
    },
    {
      "cell_type": "markdown",
      "source": [
        "## Ülesanne 3: Jump Search\n",
        "\n",
        "###1. Kirjutage lühike ülevaade Jump Search algoritmist, sealhulgas selle põhiprintsiibid ja pseudo-koodi näide.<br />\n",
        "\n",
        "Ütleme, et meil on otsitav x, sorteeritud andmejada arr[] suurusega n ja ploki (jump) suurus on m (ruutjuur n-ist). Sellisel juhul me võrdleme x indeksitega  arr[0], arr[m], arr[2m]...arr[km] kuni leidub olukord (arr[km] < x < arr[(k+1)m]), mis puhul liigmume lineaarse otsinguga alates index km suunal indeks [(k+1)m] kuni leidub element x. Kui seda antud vahemikus ei leidu, tagastame vastava teate ja lõpetame otsingu.\n",
        "                        \n",
        "\n",
        "###2. Võrrelge Jump Search'i ajalist komplekssust Linear Searchi ja Binary Searchiga.\n",
        "\n",
        "suuremate arrayde puhul on ajaline kompleksus lineaarsest ja binaarsest otsingust parem.\n",
        "Jump otsingu puhul on sammude arv ruutjuur array pikkusest.\n",
        "\n",
        "###3. Arutlege lühidalt stsenaariumide üle, kus Jump Search võib olla efektiivsem võrreldes Linear Searchi ja Binary Searchiga.\n",
        "Jump otsing on efektiivsem ühtlaselt jaotunud elementidega (näiteks: 1,3,5,7,9,11,...)  suuremates andmekogudes."
      ],
      "metadata": {
        "id": "RQXeAD99yCJJ"
      }
    },
    {
      "cell_type": "markdown",
      "source": [
        "##Ülesanne 4: Kolmikotsing ja Kahendotsing (Ternary Search vs Binary Search)\n",
        "\n",
        "\n",
        "###1. Kirjutage lühike ülevaade Ternary Search algoritmist, sealhulgas selle põhiprintsiibid ja pseudo-koodi näide. <br />\n",
        "\n",
        "Ütleme, et meil on otsitav x ja sorteeritud andmejada arr[] suurusega n. <br />\n",
        "\n",
        "a. Seame a ja o punkti (esmalt andmejada esimene ja viimane indeks) ja jagame andmejada kolme ossa mida lahutavad keskpunktid b ja c.<br />\n",
        "b = a + (o – a) / 3<br />\n",
        "c = o – (o – a) / 3<br />\n",
        "\n",
        "b. võrdleme <br />\n",
        "Kui x = b või x = c tagastame vastava indeksi ja lõpetame otsingu.<br />\n",
        "Kui x < b siis o = b-1;<br />\n",
        "kui x > c, siis a = c+1.<br />\n",
        "kui x > b ja x < c, siis a = b+1 ja o = c-1<br />\n",
        "\n",
        "kordame punktis a toimuvat 3meks jagamist ja punktis b toimuvat võrdlemist. Kui x ei leita ja otsingu vahemikud on kahanenud 0 elemndini, tagastame vastava teate.\n",
        "\n",
        "def ternary_search(f, left, right, absolute_precision) -> float:\n",
        "\n",
        "if abs(right - left) < absolute_precision:\n",
        "        return (left + right) / 2\n",
        "\n",
        "left_third = (2*left + right) / 3\n",
        "right_third = (left + 2*right) / 3\n",
        "\n",
        "if f(left_third) < f(right_third):\n",
        "return ternary_search(f, left_third, right, absolute_precision)\n",
        "\n",
        "else:\n",
        "return ternary_search(f, left, right_third, absolute_precision)\n",
        "\n",
        "###2. Võrrelge Ternary Search'i ja Binary Search'i aegkomplekssust. (Kas mõõdetud tulemus, teoreetiline võrdlus, vms) <br />\n",
        "Binaarotsingu ajaline kompleksus on väiksem, kui trenaarotsingu puhul.\n",
        "Trenary O(2 * log3n), binary tavaliselt O(log n)\n",
        "\n",
        "###3. Arutlege lühidalt, kas Binary Search on üldiselt tõhusam kui Ternary Search ning millistes olukordades. <br />\n",
        "Üldiselt on binaarotsing tõhusam, kuna teeb ühe tsükli käigus vähem võrdlusi, kui trenaarotsing. Samuti eemaldab\n",
        "Kuid väga suurte andmehulkade puhul (näiteks 100 000 000 000 elementi) on trenaarpuu sügavus väiksem, seega efektiivsus suurem.\n",
        "\n",
        "\n",
        "\n",
        "\n"
      ],
      "metadata": {
        "id": "chmDlGpoyVIN"
      }
    },
    {
      "cell_type": "markdown",
      "source": [
        "##Ülesanne 5: Otsingualgoritmide praktiline rakendamine\n",
        "Valige reaalmaailma probleem, kus otsingualgoritmi saab rakendada, ja kirjeldage konkreetse algoritmi sobivust stsenaariumi jaoks.<br />\n",
        "\n",
        "\n",
        "Kirjeldage,\n",
        "milline otsingualgoritm oleks kõige tõhusam ja miks.\n",
        "Arutage ka potentsiaalseid modifikatsioone, mis võiksid algoritmi teie valitud rakenduse jaoks optimeerida. Pidage meeles, et tuleb arvestada andmete omadusi, nagu suurus, struktuur ja uuendamise sagedus.\n",
        "\n",
        "4. Patsiendi andmete tõhus taastamine haigla andmebaasist.\n",
        "<br />\n",
        "\n",
        "Eeldusedl, et patsientide andmebaas on isikukoodi alusel sorteeritud andmekogum, sobiks kõige paremini binaarotsing. Kui andmebaas lahutada mitmeks kogumiks algusnumbri ja sünniaja järgi, saaks algoritmi tõhustada esmase otsingu valiku järgi."
      ],
      "metadata": {
        "id": "YSQ5mkjuyZCJ"
      }
    },
    {
      "cell_type": "markdown",
      "source": [
        "##Boonusülesanne (2 punkti):\n",
        "\n",
        "Kirjeldage lühidalt Fibonacci Search algoritmi ja selgitage, kuidas seda saab kasutada suuremahuliste andmete sorteeritud massiivides. Töötage välja konkreetne stsenaarium, kus Fibonacci Search oleks efektiivsem kui teised otsingualgoritmid, näiteks Binary Search või Ternary Search. Selgitage, miks valitud stsenaariumis on\n",
        "Fibonacci Search parem valik, arvestades andmestruktuuri omadusi ja otsinguvajadusi.\n"
      ],
      "metadata": {
        "id": "f64ZW3mHyewU"
      }
    }
  ]
}