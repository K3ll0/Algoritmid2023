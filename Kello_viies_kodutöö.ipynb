{
  "nbformat": 4,
  "nbformat_minor": 0,
  "metadata": {
    "colab": {
      "provenance": [],
      "authorship_tag": "ABX9TyNDewVHRI1lbQvXpyATv4N4",
      "include_colab_link": true
    },
    "kernelspec": {
      "name": "python3",
      "display_name": "Python 3"
    },
    "language_info": {
      "name": "python"
    }
  },
  "cells": [
    {
      "cell_type": "markdown",
      "metadata": {
        "id": "view-in-github",
        "colab_type": "text"
      },
      "source": [
        "<a href=\"https://colab.research.google.com/github/K3ll0/Algoritmid2023/blob/main/Kello_viies_kodut%C3%B6%C3%B6.ipynb\" target=\"_parent\"><img src=\"https://colab.research.google.com/assets/colab-badge.svg\" alt=\"Open In Colab\"/></a>"
      ]
    },
    {
      "cell_type": "markdown",
      "source": [
        "### Algoritmid ja andmestruktuurid kodutöö nr 5\n",
        "Karl-Gustav Kello\n",
        "235694TAF"
      ],
      "metadata": {
        "id": "TtKFlOsWKIr-"
      }
    },
    {
      "cell_type": "markdown",
      "source": [
        "###Ülesanne 1: Binaarpuu Implementatsioon\n"
      ],
      "metadata": {
        "id": "swHepguwHwww"
      }
    },
    {
      "cell_type": "code",
      "source": [
        "class S6lm:\n",
        "   def __init__(self, data):\n",
        "      self.left = None\n",
        "      self.right = None\n",
        "      self.data = data\n",
        "\n",
        "# sõlme sisestamine\n",
        "   def lisa(self, data):\n",
        "      if self.data:\n",
        "         if data < self.data:\n",
        "            if self.left is None:\n",
        "               self.left = S6lm(data)\n",
        "            else:\n",
        "               self.left.lisa(data)\n",
        "         elif data > self.data:\n",
        "            if self.right is None:\n",
        "               self.right = S6lm(data)\n",
        "            else:\n",
        "               self.right.lisa(data)\n",
        "         else:\n",
        "            self.data = data\n",
        "\n",
        "# Binaarpuu kuva\n",
        "   def KuvaPuu(self):\n",
        "      if self.left:\n",
        "         self.left.KuvaPuu()\n",
        "      print( self.data),\n",
        "      if self.right:\n",
        "         self.right.KuvaPuu()\n",
        "\n",
        "# Eesjärjestusega läbimine (Preorder traversal)\n",
        "# juur -> vasak leht -> parem leht\n",
        "   def EesJ2rjestus(self, juur):\n",
        "      res = []\n",
        "      if juur:\n",
        "         res.append(juur.data)\n",
        "         res = res + self.EesJ2rjestus(juur.left)\n",
        "         res = res + self.EesJ2rjestus(juur.right)\n",
        "      return res\n",
        "\n",
        "juur = S6lm(100)\n",
        "juur.lisa(103)\n",
        "juur.lisa(102)\n",
        "juur.lisa(3)\n",
        "juur.lisa(2)\n",
        "juur.lisa(1)\n",
        "juur.lisa(101)\n",
        "\n",
        "print(juur.EesJ2rjestus(juur))"
      ],
      "metadata": {
        "colab": {
          "base_uri": "https://localhost:8080/"
        },
        "id": "JvzMoxBEH5b2",
        "outputId": "3c6bd2f5-99ee-44e3-88e0-d41aa01d86ae"
      },
      "execution_count": 5,
      "outputs": [
        {
          "output_type": "stream",
          "name": "stdout",
          "text": [
            "[100, 3, 2, 1, 103, 102, 101]\n"
          ]
        }
      ]
    },
    {
      "cell_type": "markdown",
      "source": [
        "###Ülesanne 2: Kuhja (Heap) Struktuuri Teoreetiline Analüüs\n",
        "● Kirjelda min-kuhja ja max-kuhja struktuuride teoreetilisi omadusi.\n",
        "\n",
        "min-heap: kõige väiksem väärtus on juur, lapsed on suuremate väärtustega (või võrdsed) lehed on kõige suuremad väätused. Esimesena väljastatakse kõige väiksema väärtusega element.\n",
        "\n",
        "max-heap: juur on kõige suurem väärtus, lapsed on väiksemate (või võrdsete väärtustega), lehed on kõige väiksemad väärtused. Esimesena väljastatakse kõige suurema väärtusega element.\n",
        "\n",
        "\n",
        "● Analüüsi nende struktuuride aja- ja ruumikomplekssust.\n",
        "\n",
        "ajakompleksus on sisestamisel parimal juhul O(1) keskmiselt O(logN), otsimise parim O(1) keskmine O(N).\n",
        "\n",
        "ruumikompleksus on O(1), kõigi elementide (elementide arv=N) korraga sisestamisel O(N).\n",
        "\n",
        "\n",
        "● Aruta, kuidas kuhja struktuurid sobivad andmete sorteerimiseks ja\n",
        "prioriteetjärjekordade haldamiseks.\n",
        "\n",
        "Kuna min/max kuhi on olemuselt sorteeritud andmekogu, siis on vastavalt vähima või suurima elemendi leidmine väga efektiivne. Samuti järgnevad elemendid väärtuste järgi sorteeritud, seega sobib prioriteetjärekordade haldamiseks."
      ],
      "metadata": {
        "id": "kbQt1XyrJZ9M"
      }
    },
    {
      "cell_type": "markdown",
      "source": [
        "\n",
        "###Ülesanne 3: Binaarse Otsingupuu (Binary Search Tree, BST) Teoreetiline Analüüs\n",
        "● Kirjelda binaarse otsingupuu (BST) andmestruktuuri ja selle põhielemente.\n",
        "\n",
        "Binaarse otsingupuu on järjestatud kahend-puu, mille juurest vasakul olev alampuu sisaldab juurest väiksemaid ja paremal olev alampuu juurest suuremaid väärtusi.\n",
        "\n",
        "Elemendid on juur (vanem), sõlmed (lapsed), tipud (lehed) ja neid ühendavad kaared.\n",
        "\n",
        "● Arutle, kuidas tasakaalustamata puud mõjutavad BST tõhusust ja kuidas seda\n",
        "saab teoreetiliselt optimeerida.\n",
        "\n",
        "Tasakaalustamata puu puhul kasvab sisestamise ja otsimise ajaline keerukus (halvimal juhul lineaarseks O(n)). Optimeerimiseks kasutada Punase-Musta või AVL puud.\n"
      ],
      "metadata": {
        "id": "Wv8ztUYHJomD"
      }
    },
    {
      "cell_type": "markdown",
      "source": [
        "###Ülesanne 4: Punase-Musta Puu (Red-Black Tree) Teoreetiline Ülevaade\n",
        "● Kirjelda punase-musta puu andmestruktuuri ja selle peamisi omadusi.\n",
        "\n",
        "P-M on binaarne otsingupuu, mille sõlmedel on lisaväärtusena värv (1 bit), mida kasutades saab hoida puu  tasakaalustatuna kirjete lisamisel või kustutamisel.\n",
        "\n",
        "Reeglid:\n",
        "1. Iga sõlm on kas must või punane\n",
        "2. kõik NIL lehed on mustad\n",
        "3. punasel vanemal ei ole punast last\n",
        "4. iga teekond juurest leheni sisaldab sama arvu musti sõlmi\n",
        "5. kui sõlmel on ainult üks laps, siis see on must\n",
        "\n",
        "● Võrdle teoreetiliselt punase-musta puu ja binaarse otsingupuu tõhusust.\n",
        "\n",
        "P-M puu otsingu ajaline keerukus on optimeeritud (O(logN)) ja ei võta märkimisväärselt rohkem mälu.\n",
        "\n",
        "● Aruta, kuidas punase-musta puu tasakaalustamine ja värvireeglid aitavad\n",
        "kaasa andmestruktuuri tõhususele.\n",
        "\n",
        "Alampuud on enam-vähem võrdse arvuga sõlmedega, toimingud on tõhusamad, kui tasakaalustamata puudes.\n"
      ],
      "metadata": {
        "id": "fPEfBrk7J08N"
      }
    },
    {
      "cell_type": "markdown",
      "source": [
        "###Ülesanne 5: AVL Puu vs. Punase-Musta Puu Teoreetiline Võrdlus\n",
        "● Kirjelda AVL puu andmestruktuuri ja selle peamisi omadusi.\n",
        "\n",
        "AVL (Adelson-Velski, Landis) binaarotsingu puu, kus\n",
        "vasak ja parem alampuu sügavus on sama või erineb maksimaalselt ühe sõlme võrra. Puu sõlmedel on lisabitina info tasakaalu number (balance factor) -1, 0, 1.\n",
        "\n",
        "● Võrdle teoreetiliselt AVL puu ja punase-musta puu tõhusust.\n",
        "\n",
        "AVL on jäigemate reeglitega tasakaalustatud, kui P-M puu. AVL on otsingu osas tõhusam, elementide lisamisel on eelis P-M puul\n",
        "\n",
        "● Analüüsi, millistes rakendustes oleks üks struktuur teisele eelistatav ja\n",
        "põhjenda oma valikuid.\n",
        "AVL sobib \"look up table\" ehk tabelite või registrite pidamiseks. P-M puu sobib paremini logimiseks."
      ],
      "metadata": {
        "id": "l1QdOup0J6re"
      }
    },
    {
      "cell_type": "markdown",
      "source": [
        "### Boonusülesanne (2 punkti):\n",
        "● Analüüsi ja võrdle erinevaid binaarpuude tasakaalustamise algoritme (näiteks AVL, punase-musta, Splay puud, B-tree) teoreetiliselt. Selgita, kuidas need algoritmid aitavad optimeerida andmestruktuuride jõudlust erinevates rakendustes."
      ],
      "metadata": {
        "id": "JCKxIiqwKASp"
      }
    }
  ]
}