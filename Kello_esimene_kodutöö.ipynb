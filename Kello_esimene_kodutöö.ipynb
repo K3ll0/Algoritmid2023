{
  "nbformat": 4,
  "nbformat_minor": 0,
  "metadata": {
    "colab": {
      "provenance": [],
      "authorship_tag": "ABX9TyNzqiv9RpIw4a3VzLRHSVs7",
      "include_colab_link": true
    },
    "kernelspec": {
      "name": "python3",
      "display_name": "Python 3"
    },
    "language_info": {
      "name": "python"
    }
  },
  "cells": [
    {
      "cell_type": "markdown",
      "metadata": {
        "id": "view-in-github",
        "colab_type": "text"
      },
      "source": [
        "<a href=\"https://colab.research.google.com/github/K3ll0/Algoritmid2023/blob/main/Kello_esimene_kodut%C3%B6%C3%B6.ipynb\" target=\"_parent\"><img src=\"https://colab.research.google.com/assets/colab-badge.svg\" alt=\"Open In Colab\"/></a>"
      ]
    },
    {
      "cell_type": "code",
      "execution_count": null,
      "metadata": {
        "id": "lpcmRi3dYZKs"
      },
      "outputs": [],
      "source": []
    },
    {
      "cell_type": "markdown",
      "source": [
        "Algoritmid ja andmestruktuurid\n",
        "\n",
        "TTÜ Tartu Kolledž\n",
        "\n",
        "sügis 2023\n",
        "\n",
        "Karl-Gustav Kello\n",
        "\n"
      ],
      "metadata": {
        "id": "a9jn_GP5gTkR"
      }
    },
    {
      "cell_type": "markdown",
      "source": [
        "1. Raamatute järjestamise algoritm\n",
        "Ülesanne on luua selge ja lühike kirjalik algoritm, mis kirjeldab raamatute riiulil korraldamise samme nende kõrguse põhjal.\n",
        "Piirangud:\n",
        "Eeldage, et saate raamatu kõrgust vaadates kindlaks määrata. Arvestage, et riiulil on fikseeritud pikkus ja see mahutab kõik raamatud.\n",
        "Esitamiseks:\n",
        "Kirjalik algoritm pseudo-koodis või struktureeritud eesti keeles. Joonis algoritmi tööpõhimõttest.\n",
        "\n",
        "Bubble sort meetodil järjestamine:\n",
        "\n",
        "vaatlen raamatuid paaride kaupa (riiulit mööda vasakult paremale liikudes)\n",
        "1. võrdlen esimest ja teist raamatut, kui vürdluspaari esimene on kõrgem, kui teine, siis vahetan raamatute asukohad.\n",
        "2. kui võrdluspaaris on esimene lühem, liigun võrdlusega ühe raamatu võrra edasi\n",
        "3. kui võrdluspaaris puudub teine (ehk parempoolne raamat) liigun riiuli algusesse tagasi\n",
        "4. kui olen jõudnud eelmainitud olukorda (ehk riiuli lõppu) ilma ühegi raamatu asukoha vahetuseta, lõpetan sorteerimise\n",
        "\n",
        "\n"
      ],
      "metadata": {
        "id": "OG5hweryYabw"
      }
    },
    {
      "cell_type": "markdown",
      "source": [
        "2. LIFO/FIFO andmestruktuur.\n",
        "\n",
        "Pinu (LIFO) on lineaarne andmestruktuur, sellesse sisestuse ja kustutuse ajaline keerukus on O(1) ja konstantne ja ei olene pinus olevate elementide hulgast, kuna tegevus toimub alati viimasel mäluaadressil asuva elemendiga."
      ],
      "metadata": {
        "id": "3xArTbAOYs6e"
      }
    },
    {
      "cell_type": "code",
      "source": [
        "pinu=[]\n",
        "\n",
        "def lisa():\n",
        "  element = input(\"lisa element\")\n",
        "  pinu.append(element)\n",
        "  print(pinu)\n",
        "\n",
        "def eemalda():\n",
        "  if not pinu:\n",
        "    print(\"pinu on tyhi\")\n",
        "  else:\n",
        "    e=pinu.pop()\n",
        "    print(\"eemaldatud element: \",e)\n",
        "    print(pinu)\n",
        "\n",
        "while True:\n",
        "  print(\"vali tegevus 1.lisa 2.eemalda 3.välju\")\n",
        "  valik = int(input())\n",
        "  if valik ==1:\n",
        "    lisa()\n",
        "  elif valik==2:\n",
        "    eemalda()\n",
        "  elif valik==3:\n",
        "    break\n",
        "  else:\n",
        "    print(\"vali korrektne sisend\")"
      ],
      "metadata": {
        "colab": {
          "base_uri": "https://localhost:8080/"
        },
        "id": "w4nWbDb1ZKKV",
        "outputId": "36d5b282-e652-441f-e61a-2967558bfcd9"
      },
      "execution_count": null,
      "outputs": [
        {
          "name": "stdout",
          "output_type": "stream",
          "text": [
            "vali tegevus 1.lisa 2.eemalda 3.välju\n",
            "1\n",
            "lisa element2\n",
            "['2']\n",
            "vali tegevus 1.lisa 2.eemalda 3.välju\n",
            "2\n",
            "eemaldatud element:  2\n",
            "[]\n",
            "vali tegevus 1.lisa 2.eemalda 3.välju\n",
            "3\n"
          ]
        }
      ]
    },
    {
      "cell_type": "markdown",
      "source": [
        "3. Rekursiivne Fibonacci funktsioon\n",
        "\n",
        "iga funktsioon kord kutsub välja kaks korda iseennast, ekspodentsiaalselt kasvav arvutusmaht.\n"
      ],
      "metadata": {
        "id": "JIgTckwzYzas"
      }
    },
    {
      "cell_type": "code",
      "source": [
        "def fibo(i):\n",
        "\n",
        "  #baasjuhtum, lõpetamiseks vajalik tingimus\n",
        "  if i <= 1:\n",
        "    return i\n",
        "\n",
        "  # rekursioon\n",
        "  else:\n",
        "    return fibo(i-2) + fibo(i-1)\n",
        "\n",
        "x = 10\n",
        "\n",
        "print(x,\"-nes number fibonacci reas on:\",fibo(x))\n"
      ],
      "metadata": {
        "colab": {
          "base_uri": "https://localhost:8080/"
        },
        "id": "hFgtwHzLkcS2",
        "outputId": "00edd2a1-1ba2-4b96-a3a2-6d50e6503124"
      },
      "execution_count": null,
      "outputs": [
        {
          "output_type": "stream",
          "name": "stdout",
          "text": [
            "10 -nes number fibonacci reas on: 55\n"
          ]
        }
      ]
    },
    {
      "cell_type": "markdown",
      "source": [
        "4. Binaarne otsingualgoritm\n",
        "\n",
        "Antud binaarotsingu algoritm tagastab esimese indeksi sorteeritud täisarvude loendist, kus otsitav täisarv asub. Kui antud arvu ei leidu tagastab alogoritm vastava sõnumi.\n"
      ],
      "metadata": {
        "id": "NlExy7siY4Dv"
      }
    },
    {
      "cell_type": "code",
      "source": [
        "def binaarotsing(loend, otsitav):\n",
        "  # määran otsingu algus ja lõpu indeksid\n",
        "  a_indeks = 0\n",
        "  l_indeks = len(loend) - 1\n",
        "\n",
        "  # seni, kuni algusindeks on väiksem või võrdne lõpuindeksiga\n",
        "  while a_indeks <= l_indeks:\n",
        "    # siis vaadeldav indeks loendis on\n",
        "    indeks = a_indeks + (l_indeks - a_indeks) // 2\n",
        "    # ja vaadeldav arv antud indeksil on\n",
        "    arv = loend[indeks]\n",
        "\n",
        "    # kui vaadeldav arv on otsitav arv, siis tagasta vaadeldud indeks\n",
        "    if arv == otsitav:\n",
        "      return indeks\n",
        "\n",
        "    # kui otsitav arv on väiksem, kui vaadeldav\n",
        "    elif otsitav < arv:\n",
        "      # siis lõpuindeksiks saab viimati vaadatud indeks -1\n",
        "      l_indeks = indeks - 1\n",
        "\n",
        "  # aga kui on suurem, siis algusindeksiks saab viimati vaadatud indeks +1\n",
        "    else:\n",
        "      a_indeks = indeks + 1\n",
        "\n",
        "  # kui otsitavat arvu ei leidu loendis\n",
        "  return None\n",
        "\n",
        "\n",
        "loend_1 = [0,2,2,2,3,6,6,8,9,20]\n",
        "otsitav_1 = 7\n",
        "\n",
        "x = binaarotsing(loend_1, otsitav_1)\n",
        "\n",
        "if x == None:\n",
        "  print(\"otsitavat arvu ei leidu antud loendis\")\n",
        "else:\n",
        "  print(\"otsitava arvu esimene indeks loendis on:\",x)\n",
        "\n"
      ],
      "metadata": {
        "colab": {
          "base_uri": "https://localhost:8080/"
        },
        "id": "BP9oBSganh62",
        "outputId": "dc2f5b03-a779-4739-9f40-7889246d77ea"
      },
      "execution_count": null,
      "outputs": [
        {
          "output_type": "stream",
          "name": "stdout",
          "text": [
            "otsitavat arvu ei leidu antud loendis\n"
          ]
        }
      ]
    },
    {
      "cell_type": "markdown",
      "source": [],
      "metadata": {
        "id": "CzoC1rYnY_zZ"
      }
    }
  ]
}